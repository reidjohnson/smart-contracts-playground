{
 "cells": [
  {
   "cell_type": "code",
   "execution_count": 1,
   "metadata": {},
   "outputs": [],
   "source": [
    "import os\n",
    "import pickle\n",
    "import re\n",
    "import sys\n",
    "\n",
    "import numpy as np\n",
    "import torch\n",
    "from PIL import Image\n",
    "from torch import nn\n",
    "from torch import optim\n",
    "from torch.utils.data import DataLoader\n",
    "from torchvision import transforms\n",
    "from torchvision.datasets import mnist\n",
    "\n",
    "# Fixes: OMP Error #15\n",
    "os.environ['KMP_DUPLICATE_LIB_OK'] = \"True\"\n",
    "\n",
    "np.set_printoptions(linewidth=np.inf)\n",
    "np.set_printoptions(threshold=sys.maxsize)"
   ]
  },
  {
   "cell_type": "code",
   "execution_count": 2,
   "metadata": {},
   "outputs": [],
   "source": [
    "class Model(nn.Module):\n",
    "    def __init__(self):\n",
    "        super(Model, self).__init__()\n",
    "        self.conv1 = nn.Conv2d(1, 4, 5)\n",
    "        self.relu1 = nn.ReLU()\n",
    "        self.pool1 = nn.MaxPool2d(2)\n",
    "        self.fc1 = nn.Linear(16, 10)\n",
    "\n",
    "    def forward(self, x):\n",
    "        x = self.conv1(x)\n",
    "        x = self.relu1(x)\n",
    "        x = self.pool1(x)\n",
    "        x = x.view(x.shape[0], -1)\n",
    "        x = self.fc1(x)\n",
    "        return x"
   ]
  },
  {
   "cell_type": "code",
   "execution_count": 3,
   "metadata": {},
   "outputs": [],
   "source": [
    "def format_ndarray_for_solidity(a, a_name=None, dtype=\"int128\"):\n",
    "    ndim = a.ndim\n",
    "    a = str(repr(a))\n",
    "    a = re.sub(r'^array\\(', r'', a)  # remove array metadata\n",
    "    a = re.sub(r'^\\s*$', r'', a, flags=re.MULTILINE)  # remove leading whitespace\n",
    "    a = re.sub(r'^\\s*', r'\\t', a, flags=re.MULTILINE)  # align lines with tab\n",
    "    a = re.sub(r'^(\\s*)(\\[{1,})\\[', r'\\2\\n\\1[', a, flags=re.MULTILINE)\n",
    "    a = re.sub(r'(\\]{1,})\\]', r']\\n\\1', a)  # separate multiple brackets with newline\n",
    "    a = re.sub(r'\\], dtype=.*\\)', r']', a)  # remove NumPy dtype metadata\n",
    "    a = re.sub(r'\\[([-,\\s]*\\d*),', r'[{}(\\1),'.format(dtype), a)  # add dtype to first integer of each array\n",
    "    a = a + ';'  # append semicolon\n",
    "    a = re.sub(r'^\\s*', r'', a)  # replace leading space on first line\n",
    "    a = re.sub(r'\\](\\]{1,});$', r'\\1\\n];', a)  # move final bracket to separate line\n",
    "    if a_name is not None:\n",
    "        # Add dtype metadata and variable name.\n",
    "        a = \"int128{} {} = [\".format('[]' * ndim, a_name.replace('.', '_')) + a[1:]\n",
    "    a = re.sub(r'= \\[(\\[{1,})', r'= [\\n\\1', a)  # move leading bracket to separate line\n",
    "    n_lines = len(a.split('\\n'))\n",
    "    if n_lines > 1 and ndim > 2:\n",
    "        # Add tab to inner lines.\n",
    "        a = '\\n'.join(['\\t' + a_line if (idx > 0 and idx < n_lines -1) else a_line\n",
    "                       for idx, a_line in enumerate(a.split('\\n'))])\n",
    "    a = a.replace('\\t', ' ' * 4)  # convert tabs to spaces\n",
    "    return a"
   ]
  },
  {
   "cell_type": "code",
   "execution_count": 4,
   "metadata": {},
   "outputs": [],
   "source": [
    "def do_train(model, train_dataset, test_dataset, n_epochs=100, batch_size=256):\n",
    "    train_loader = DataLoader(train_dataset, batch_size=batch_size)\n",
    "    test_loader = DataLoader(test_dataset, batch_size=batch_size)\n",
    "\n",
    "    optimizer = optim.SGD(model.parameters(), lr=1e-1)\n",
    "    loss_fn = nn.CrossEntropyLoss()\n",
    "\n",
    "    for epoch in range(1, n_epochs + 1):\n",
    "        model.train()\n",
    "        for idx, (X_train, y_train) in enumerate(train_loader):\n",
    "            optimizer.zero_grad()\n",
    "            y_pred = model(X_train.float())\n",
    "            loss = loss_fn(y_pred, y_train.long())\n",
    "            loss.backward()\n",
    "            optimizer.step()\n",
    "\n",
    "        n_correct = 0\n",
    "        n_total = 0\n",
    "        model.eval()\n",
    "        for idx, (X_test, y_test) in enumerate(test_loader):\n",
    "            y_pred = model(X_test.float()).detach()\n",
    "            y_pred = np.argmax(y_pred, axis=-1)\n",
    "            label_np = y_test.numpy()\n",
    "            y_acc = y_pred == y_test\n",
    "            n_correct += np.sum(y_acc.numpy(), axis=-1)\n",
    "            n_total += y_acc.shape[0]\n",
    "\n",
    "        print(\"Epoch: {:3d}, loss: {:.5f}, acc: {:.4f}\".format(\n",
    "            epoch, loss.sum().item(), n_correct / n_total))\n",
    "\n",
    "    return model\n",
    "\n",
    "\n",
    "def do_test(model, test_dataset, batch_size=10000):\n",
    "    test_loader = DataLoader(test_dataset, batch_size=batch_size)\n",
    "\n",
    "    n_correct = 0\n",
    "    n_total = 0\n",
    "    model.eval()\n",
    "    for idx, (X_test, y_test) in enumerate(test_loader):\n",
    "        y_pred = model(X_test.float()).detach()\n",
    "        y_pred = np.argmax(y_pred, axis=-1)\n",
    "        label_np = y_test.numpy()\n",
    "        y_acc = y_pred == y_test\n",
    "        n_correct += np.sum(y_acc.numpy(), axis=-1)\n",
    "        n_total += y_acc.shape[0]\n",
    "\n",
    "    return n_correct, n_total"
   ]
  },
  {
   "cell_type": "code",
   "execution_count": 5,
   "metadata": {},
   "outputs": [
    {
     "name": "stdout",
     "output_type": "stream",
     "text": [
      "Skipping training...\n",
      "Loading model weights...\n"
     ]
    }
   ],
   "source": [
    "retrain = False\n",
    "\n",
    "train_dataset = mnist.MNIST(\n",
    "    root=\"./train\",\n",
    "    train=True,\n",
    "    download=True,\n",
    "    transform=transforms.Compose([\n",
    "        transforms.Resize((8, 8)),\n",
    "        transforms.ToTensor()\n",
    "    ])\n",
    ")\n",
    "test_dataset = mnist.MNIST(\n",
    "    root=\"./test\",\n",
    "    train=False,\n",
    "    download=True,\n",
    "    transform=transforms.Compose([\n",
    "        transforms.Resize((8, 8)),\n",
    "        transforms.ToTensor()\n",
    "    ])\n",
    ")\n",
    "\n",
    "model = Model()\n",
    "\n",
    "if retrain:\n",
    "    print(\"Retraining...\")\n",
    "    model = do_train(model, train_dataset, test_dataset, n_epochs=10, batch_size=256)\n",
    "    with open(\"model.pkl\", 'wb') as f:\n",
    "        pickle.dump(model.state_dict(), f)\n",
    "else:\n",
    "    print(\"Skipping training...\")\n",
    "\n",
    "print(\"Loading model weights...\")\n",
    "with open(\"model.pkl\", 'rb') as f:\n",
    "    weights = pickle.load(f)"
   ]
  },
  {
   "cell_type": "code",
   "execution_count": 6,
   "metadata": {},
   "outputs": [
    {
     "name": "stdout",
     "output_type": "stream",
     "text": [
      "Test Accuracy: 0.9032 (9032/10000)\n"
     ]
    }
   ],
   "source": [
    "test_loader = DataLoader(test_dataset, batch_size=10000)\n",
    "\n",
    "# Set model weights.\n",
    "for param, weight in zip(model.parameters(), weights.values()):\n",
    "    param.data = weight\n",
    "\n",
    "n_correct, n_total = do_test(model, test_dataset, batch_size=10000)\n",
    "print(\"Test Accuracy: {:.4f} ({}/{})\".format(n_correct / n_total, n_correct, n_total))"
   ]
  },
  {
   "cell_type": "code",
   "execution_count": 7,
   "metadata": {},
   "outputs": [
    {
     "name": "stdout",
     "output_type": "stream",
     "text": [
      "Test Quantized Accuracy: 0.8985 (8985/10000)\n"
     ]
    }
   ],
   "source": [
    "test_loader = DataLoader(test_dataset, batch_size=10000)\n",
    "\n",
    "# Set quantized model weights.\n",
    "for param, weight in zip(model.parameters(), weights.values()):\n",
    "    param.data = (weight * 255).type('torch.LongTensor').type('torch.FloatTensor')\n",
    "\n",
    "n_correct, n_total = do_test(model, test_dataset, batch_size=10000)\n",
    "print(\"Test Quantized Accuracy: {:.4f} ({}/{})\".format(n_correct / n_total, n_correct, n_total))"
   ]
  },
  {
   "cell_type": "code",
   "execution_count": 8,
   "metadata": {},
   "outputs": [
    {
     "name": "stdout",
     "output_type": "stream",
     "text": [
      "Printing formatted example input image...\n",
      "int128[][][] ex_image = [\n",
      "    [\n",
      "        [int128(  0),   0,   0,   0,   0,   0,   0,   0],\n",
      "        [int128(  0),   5,  18,   7,   4,   4,   1,   0],\n",
      "        [int128(  0),  32, 114, 117, 117, 125,  30,   0],\n",
      "        [int128(  0),   2,   7,  18,  44, 139,  23,   0],\n",
      "        [int128(  0),   0,   0,   1,  81,  83,   1,   0],\n",
      "        [int128(  0),   0,   0,  35, 128,  18,   0,   0],\n",
      "        [int128(  0),   0,   8, 127,  65,   0,   0,   0],\n",
      "        [int128(  0),   0,  23, 128,  20,   0,   0,   0]\n",
      "    ]\n",
      "];\n",
      "\n"
     ]
    },
    {
     "data": {
      "image/png": "[encoded data removed]",
      "text/plain": [
       "<PIL.Image.Image image mode=RGB size=32x32 at 0x7FA6F8B628E0>"
      ]
     },
     "execution_count": 8,
     "metadata": {},
     "output_type": "execute_result"
    }
   ],
   "source": [
    "print(\"Printing formatted example input image...\")\n",
    "test_loader = DataLoader(test_dataset, batch_size=1)\n",
    "_, (X_digit, y_digit) = next(enumerate(test_loader))\n",
    "\n",
    "X_digit = (X_digit.numpy().reshape((1, 8, 8)) * 255).astype(np.uint8)\n",
    "\n",
    "digit = format_ndarray_for_solidity(X_digit, \"ex_image\")\n",
    "print(digit)\n",
    "print()\n",
    "\n",
    "Image.fromarray(X_digit.reshape((8, 8))).convert('RGB').resize((32, 32))"
   ]
  },
  {
   "cell_type": "code",
   "execution_count": 9,
   "metadata": {},
   "outputs": [
    {
     "name": "stdout",
     "output_type": "stream",
     "text": [
      "Printing formatted default model weights...\n",
      "int128[][][][] default_conv1_weight = [\n",
      "    [[\n",
      "        [int128(-213),   79,  176,  -10,  -78],\n",
      "        [int128(-419),  103,  282,  -50,  201],\n",
      "        [int128(-673),  418,  541, -163, -107],\n",
      "        [int128(-461), -425,  543,  525,  -35],\n",
      "        [int128(  77), -293, -489,   82,   23]\n",
      "    ]],\n",
      "    [[\n",
      "        [int128(-470), -537, -330, -472, -196],\n",
      "        [int128( 471), 1058,  774,  264,  -45],\n",
      "        [int128(-293), -678,  -45,  399,  -52],\n",
      "        [int128( -32),  -24, -275,  -84, -163],\n",
      "        [int128(  43),   -1,   -9, -113, -217]\n",
      "    ]],\n",
      "    [[\n",
      "        [int128(-131), -225, -255,  260,  265],\n",
      "        [int128(   8),  444,  358,  455,  244],\n",
      "        [int128( 313), -221, -615, -582, -362],\n",
      "        [int128(  84), -268,   11, -622,  -57],\n",
      "        [int128( 143),  -44,  -55, -119,  523]\n",
      "    ]],\n",
      "    [[\n",
      "        [int128(  92),  141,  316,  397,  685],\n",
      "        [int128(  84),  108,   45, -235,  422],\n",
      "        [int128(-249),   64, -528,    0,  141],\n",
      "        [int128(-333), -476,  124,  262, -131],\n",
      "        [int128( 580),  496,  391,  276,   66]\n",
      "    ]]\n",
      "];\n",
      "\n",
      "int128[] default_conv1_bias = [int128(118),  63, 206, -96];\n",
      "\n",
      "int128[][] default_fc1_weight = [\n",
      "    [int128(-383),  193,  653, -350,  -85,  190, -201, -272,  150,  -84,  -63, -120, -277,   42, -101,  325],\n",
      "    [int128(-429),    8, -141,  408,  172, -771, -116, -441,  322,  649,  478,  102,  237, -357,  369, -396],\n",
      "    [int128(-317), -187, -122,   46,  568,  102,  118,  184,   36,  -96,  -10,  -59,  334,   94,  -52,   47],\n",
      "    [int128(  98),  270, -432,  101,  378,  151,   37,  296, -110, -309, -153, -243,  367, -128, -282,  446],\n",
      "    [int128( 284),   12,  -75,   15, -289, -337,  485, -232, -254, -507,  208,  -40, -187,  315,  201, -398],\n",
      "    [int128( 281),  145, -185, -174,    6,   41,  -80,  174, -139,  487,  -84,  -13, -157,  174, -243,  380],\n",
      "    [int128( -51),   29,  677,   29, -609, -487, -282,  263,   23,  262, -551, -145,  -35,  148, -479,  121],\n",
      "    [int128(-425), -280, -293,   46,  223,  456,  220,   58,  196, -171,  248,  241, -376, -154,  659, -392],\n",
      "    [int128( 507),   53,   17,    3,  -17,   91, -438,  -84, -354,  -95, -258,  267,  141,  -72, -219,  211],\n",
      "    [int128( 320),  115, -159,  -22, -257,  465,  222,  -48,  -76, -412,  142,  -16, -313,   11,  238, -280]\n",
      "];\n",
      "\n",
      "int128[] default_fc1_bias = [int128(-114), -104,  -49,   83,  209,  105,   22,  -96, -116,  -62];\n",
      "\n"
     ]
    }
   ],
   "source": [
    "print(\"Printing formatted default model weights...\")\n",
    "for w_name, w in weights.items():\n",
    "    w = (w.numpy() * 255).astype(np.int32)\n",
    "    w_formatted = format_ndarray_for_solidity(w, \"default_\" + w_name)\n",
    "    print(w_formatted)\n",
    "    print()"
   ]
  }
 ],
 "metadata": {
  "kernelspec": {
   "display_name": "Python 3",
   "language": "python",
   "name": "python3"
  },
  "language_info": {
   "codemirror_mode": {
    "name": "ipython",
    "version": 3
   },
   "file_extension": ".py",
   "mimetype": "text/x-python",
   "name": "python",
   "nbconvert_exporter": "python",
   "pygments_lexer": "ipython3",
   "version": "3.8.5"
  }
 },
 "nbformat": 4,
 "nbformat_minor": 4
}
